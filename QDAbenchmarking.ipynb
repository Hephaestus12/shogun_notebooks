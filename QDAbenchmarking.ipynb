{
 "cells": [
  {
   "cell_type": "code",
   "execution_count": 1,
   "metadata": {
    "collapsed": false
   },
   "outputs": [
    {
     "name": "stderr",
     "output_type": "stream",
     "text": [
      "/usr/local/lib/python2.7/dist-packages/sklearn/qda.py:4: DeprecationWarning: qda.QDA has been moved to discriminant_analysis.QuadraticDiscriminantAnalysis in 0.17 and will be removed in 0.19.\n",
      "  \"in 0.17 and will be removed in 0.19.\", DeprecationWarning)\n"
     ]
    }
   ],
   "source": [
    "%matplotlib inline\n",
    "from modshogun import *\n",
    "import matplotlib.pyplot as plt\n",
    "import numpy as np\n",
    "from sklearn import datasets,qda\n",
    "import time"
   ]
  },
  {
   "cell_type": "markdown",
   "metadata": {},
   "source": [
    "## Real Accuracy"
   ]
  },
  {
   "cell_type": "code",
   "execution_count": 2,
   "metadata": {
    "collapsed": false
   },
   "outputs": [
    {
     "name": "stdout",
     "output_type": "stream",
     "text": [
      "oilspill\n",
      "0.964743589744\n",
      "0.964743589744\n",
      "***************************************************************************************\n",
      "scene\n",
      "0.928927680798\n",
      "0.928927680798\n",
      "***************************************************************************************\n",
      "webpage\n",
      "0.970844475114\n",
      "0.726214094712\n",
      "***************************************************************************************\n",
      "isolet\n",
      "0.914967295114\n",
      "0.914967295114\n",
      "***************************************************************************************\n",
      "mammography\n",
      "0.822961373391\n",
      "0.954399141631\n",
      "***************************************************************************************\n",
      "abalone19\n",
      "0.819683908046\n",
      "0.808908045977\n",
      "***************************************************************************************\n",
      "sick\n",
      "0.905123339658\n",
      "0.367172675522\n",
      "***************************************************************************************\n",
      "abalone7\n",
      "0.622844827586\n",
      "0.683189655172\n",
      "***************************************************************************************\n",
      "satallite\n",
      "0.686713286713\n",
      "0.789277389277\n",
      "***************************************************************************************\n",
      "ecoli\n",
      "0.866071428571\n",
      "0.776785714286\n",
      "***************************************************************************************\n"
     ]
    },
    {
     "name": "stderr",
     "output_type": "stream",
     "text": [
      "/usr/local/lib/python2.7/dist-packages/sklearn/discriminant_analysis.py:688: UserWarning: Variables are collinear\n",
      "  warnings.warn(\"Variables are collinear\")\n"
     ]
    }
   ],
   "source": [
    "train_dataset_files = ['datasets/oilspill_train.csv','datasets/scene_train.csv','datasets/webpage_train.csv',\n",
    "                      'datasets/isolet_train.csv','datasets/mammography_train.csv','datasets/abalone19_train.csv',\n",
    "                      'datasets/sickEuthyroid_train.csv','datasets/abalone7_train.csv','datasets/satellite_train.csv'\n",
    "                      ,'datasets/ecoli_train.csv']\n",
    "test_files = ['datasets/oilspill_test.csv','datasets/scene_test.csv','datasets/webpage_test.csv',\n",
    "              'datasets/isolet_test.csv','datasets/mammography_test.csv','datasets/abalone19_test.csv',\n",
    "              'datasets/sickEuthyroid_test.csv','datasets/abalone7_test.csv','datasets/satellite_test.csv'\n",
    "              ,'datasets/ecoli_test.csv']\n",
    "labels_test_files = ['datasets/oilspill_labels.csv','datasets/scene_labels.csv','datasets/webpage_labels.csv',\n",
    "                      'datasets/isolet_labels.csv','datasets/mammography_labels.csv','datasets/abalone19_labels.csv',\n",
    "                      'datasets/sickEuthyroid_labels.csv','datasets/abalone7_labels.csv','datasets/satellite_labels.csv'\n",
    "                      ,'datasets/ecoli_labels.csv']\n",
    "dataset_names = ['oilspill','scene','webpage','isolet','mammography','abalone19','sick','abalone7','satallite','ecoli']\n",
    "\n",
    "for train_file,test_file,labels_file,name in zip(train_dataset_files,test_files,labels_test_files,dataset_names):\n",
    "    train_data = RealFeatures(CSVFile(train_file))\n",
    "    shogun_feats_test = RealFeatures(CSVFile(test_file))\n",
    "    shogun_labels_test = MulticlassLabels(CSVFile(labels_file))\n",
    "\n",
    "    a = train_data.get_feature_matrix()\n",
    "    feats_train = a[:len(a) -1]\n",
    "    labels_train = a[len(a) -1]\n",
    "\n",
    "    shogun_labels_train = MulticlassLabels(labels_train)\n",
    "    shogun_feats_train = RealFeatures(feats_train)\n",
    "    \n",
    "    print name\n",
    "    feats_test_inverted = map(list, zip(*shogun_feats_test.get_feature_matrix()))\n",
    "    feats_train_inverted = map(list, zip(*shogun_feats_train.get_feature_matrix()))\n",
    "    \n",
    "    test_labels = shogun_labels_test.get_labels()\n",
    "    shogun_qda = QDA(shogun_feats_train, shogun_labels_train)\n",
    "    \n",
    "    shogun_qda.train()\n",
    "    print np.sum((test_labels == shogun_qda.apply(shogun_feats_test).get_labels()))/(1.0*len(test_labels))\n",
    "    sklearn_qda = qda.QDA()\n",
    "    sklearn_qda.fit(feats_train_inverted,labels_train)\n",
    "    print np.sum(test_labels == sklearn_qda.predict(feats_test_inverted))/(1.0*len(test_labels))\n",
    "    print \"***************************************************************************************\""
   ]
  },
  {
   "cell_type": "code",
   "execution_count": null,
   "metadata": {
    "collapsed": false
   },
   "outputs": [],
   "source": []
  },
  {
   "cell_type": "code",
   "execution_count": null,
   "metadata": {
    "collapsed": false
   },
   "outputs": [],
   "source": []
  },
  {
   "cell_type": "code",
   "execution_count": null,
   "metadata": {
    "collapsed": true
   },
   "outputs": [],
   "source": []
  }
 ],
 "metadata": {
  "kernelspec": {
   "display_name": "Python 2",
   "language": "python",
   "name": "python2"
  },
  "language_info": {
   "codemirror_mode": {
    "name": "ipython",
    "version": 2
   },
   "file_extension": ".py",
   "mimetype": "text/x-python",
   "name": "python",
   "nbconvert_exporter": "python",
   "pygments_lexer": "ipython2",
   "version": "2.7.6"
  }
 },
 "nbformat": 4,
 "nbformat_minor": 0
}
