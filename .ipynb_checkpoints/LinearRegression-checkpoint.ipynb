{
 "cells": [
  {
   "cell_type": "markdown",
   "metadata": {},
   "source": [
    "## Comparison between Linear Regression in Shogun and SKlearn"
   ]
  },
  {
   "cell_type": "markdown",
   "metadata": {},
   "source": [
    "Three different datasets are used.one is randomly generated straight line with noise,the second is the housing dataset provided by shogun and the last is the diabetes provided by Sklearn. "
   ]
  },
  {
   "cell_type": "code",
   "execution_count": 1,
   "metadata": {
    "collapsed": false
   },
   "outputs": [],
   "source": [
    "%matplotlib inline\n",
    "# import all shogun classes\n",
    "from modshogun import *\n",
    "import matplotlib.pyplot as plt\n",
    "import numpy as np\n",
    "from sklearn import linear_model\n",
    "import time"
   ]
  },
  {
   "cell_type": "markdown",
   "metadata": {
    "collapsed": false
   },
   "source": [
    "## First Comparison"
   ]
  },
  {
   "cell_type": "code",
   "execution_count": 2,
   "metadata": {
    "collapsed": false
   },
   "outputs": [
    {
     "data": {
      "text/plain": [
       "<matplotlib.collections.PathCollection at 0x7f1779739290>"
      ]
     },
     "execution_count": 2,
     "metadata": {},
     "output_type": "execute_result"
    },
    {
     "name": "stderr",
     "output_type": "stream",
     "text": [
      "/usr/lib/pymodules/python2.7/matplotlib/collections.py:548: FutureWarning: elementwise comparison failed; returning scalar instead, but in the future will perform elementwise comparison\n",
      "  if self._edgecolors == 'face':\n"
     ]
    },
    {
     "data": {
      "image/png": "[encoded data removed]",
      "text/plain": [
       "<matplotlib.figure.Figure at 0x7f1779c41d10>"
      ]
     },
     "metadata": {},
     "output_type": "display_data"
    }
   ],
   "source": [
    "slope= 4.7\n",
    "\n",
    "x_train = np.random.rand(100)*10\n",
    "y_train = slope*(x_train)+np.random.randn(100)*5+2\n",
    "y_true = slope*(x_train)+2\n",
    "x_test = np.linspace(0,10, 40)\n",
    "y_test = slope*(x_test)+2\n",
    "\n",
    "shogun_x_train = RealFeatures(x_train.reshape(1,len(x_train)))\n",
    "shogun_x_test = RealFeatures(x_test.reshape(1,len(x_test)))\n",
    "shogun_labels_train = RegressionLabels(y_train)\n",
    "\n",
    "plt.scatter(x_train, y_train,  color='black')"
   ]
  },
  {
   "cell_type": "code",
   "execution_count": null,
   "metadata": {
    "collapsed": false
   },
   "outputs": [],
   "source": [
    "start = time.time()\n",
    "shogun_regression_1 = LeastSquaresRegression(shogun_x_train, shogun_labels_train)\n",
    "shogun_regression_1.train()\n",
    "end = time.time()\n",
    "out = shogun_regression_1.apply(shogun_x_test).get_labels()\n",
    "\n",
    "print 'Shogun Weights:'\n",
    "print shogun_regression_1.get_w()\n",
    "print 'Shogun Bias:'\n",
    "print shogun_regression_1.get_bias()\n",
    "print \"Shogun RSS: \"\n",
    "print np.mean((out - y_test) ** 2)\n",
    "print \"Shogun time:\"\n",
    "print end-start\n",
    "print \"*************\"\n",
    "start = time.time()\n",
    "sklearn_regression_1 = linear_model.LinearRegression()\n",
    "# Train the model using the training sets\n",
    "sklearn_regression_1.fit(x_train.reshape(len(x_train),1), y_train)\n",
    "end = time.time()\n",
    "\n",
    "out2 = sklearn_regression_1.predict(x_test.reshape(len(x_test),1))\n",
    "print 'Sklearn Weights'\n",
    "print sklearn_regression_1.coef_\n",
    "print 'Sklearn Bias'\n",
    "print sklearn_regression_1.intercept_\n",
    "print\"SKlearn RSS: \"\n",
    "print np.mean((out2 - y_test) ** 2)\n",
    "print \"SKlearn time:\"\n",
    "print end-start"
   ]
  },
  {
   "cell_type": "code",
   "execution_count": null,
   "metadata": {
    "collapsed": false
   },
   "outputs": [],
   "source": [
    "_=plt.plot(x_train,y_train, 'ro')\n",
    "_=plt.plot(x_test,out, color='blue')\n",
    "_=plt.plot(x_test, out2, color='green')"
   ]
  },
  {
   "cell_type": "markdown",
   "metadata": {
    "collapsed": false
   },
   "source": [
    "## Second Comparison"
   ]
  },
  {
   "cell_type": "code",
   "execution_count": 5,
   "metadata": {
    "collapsed": false
   },
   "outputs": [
    {
     "ename": "SystemError",
     "evalue": "\u001b[1;31m[ERROR]\u001b[0m In file /home/youssef/opensource/shogun/src/shogun/io/File.cpp line 71: Error opening file 'data/uci/housing/fm_housing.dat'\n",
     "output_type": "error",
     "traceback": [
      "\u001b[1;31m---------------------------------------------------------------------------\u001b[0m",
      "\u001b[1;31mSystemError\u001b[0m                               Traceback (most recent call last)",
      "\u001b[1;32m<ipython-input-5-2971142b1060>\u001b[0m in \u001b[0;36m<module>\u001b[1;34m()\u001b[0m\n\u001b[1;32m----> 1\u001b[1;33m \u001b[0mhouse_features\u001b[0m \u001b[1;33m=\u001b[0m \u001b[0mRealFeatures\u001b[0m\u001b[1;33m(\u001b[0m\u001b[0mCSVFile\u001b[0m\u001b[1;33m(\u001b[0m\u001b[1;34m'data/uci/housing/fm_housing.dat'\u001b[0m\u001b[1;33m)\u001b[0m\u001b[1;33m)\u001b[0m\u001b[1;33m.\u001b[0m\u001b[0mget_feature_matrix\u001b[0m\u001b[1;33m(\u001b[0m\u001b[1;33m)\u001b[0m\u001b[1;33m\u001b[0m\u001b[0m\n\u001b[0m\u001b[0;32m      2\u001b[0m \u001b[0mhouse_labels\u001b[0m \u001b[1;33m=\u001b[0m \u001b[0mRegressionLabels\u001b[0m\u001b[1;33m(\u001b[0m\u001b[0mCSVFile\u001b[0m\u001b[1;33m(\u001b[0m\u001b[1;34m'data/uci/housing/housing_label.dat'\u001b[0m\u001b[1;33m)\u001b[0m\u001b[1;33m)\u001b[0m\u001b[1;33m.\u001b[0m\u001b[0mget_labels\u001b[0m\u001b[1;33m(\u001b[0m\u001b[1;33m)\u001b[0m\u001b[1;33m\u001b[0m\u001b[0m\n\u001b[0;32m      3\u001b[0m \u001b[1;33m\u001b[0m\u001b[0m\n\u001b[0;32m      4\u001b[0m \u001b[0mhouse_train\u001b[0m \u001b[1;33m=\u001b[0m \u001b[0mhouse_features\u001b[0m\u001b[1;33m[\u001b[0m\u001b[1;33m:\u001b[0m\u001b[1;33m,\u001b[0m\u001b[1;33m:\u001b[0m\u001b[1;36m400\u001b[0m\u001b[1;33m]\u001b[0m\u001b[1;33m\u001b[0m\u001b[0m\n\u001b[0;32m      5\u001b[0m \u001b[0mhouse_labels_train\u001b[0m \u001b[1;33m=\u001b[0m \u001b[0mhouse_labels\u001b[0m\u001b[1;33m[\u001b[0m\u001b[1;33m:\u001b[0m\u001b[1;36m400\u001b[0m\u001b[1;33m]\u001b[0m\u001b[1;33m\u001b[0m\u001b[0m\n",
      "\u001b[1;31mSystemError\u001b[0m: \u001b[1;31m[ERROR]\u001b[0m In file /home/youssef/opensource/shogun/src/shogun/io/File.cpp line 71: Error opening file 'data/uci/housing/fm_housing.dat'\n"
     ]
    }
   ],
   "source": [
    "house_features = RealFeatures(CSVFile('data/uci/housing/fm_housing.dat')).get_feature_matrix()\n",
    "house_labels = RegressionLabels(CSVFile('data/uci/housing/housing_label.dat')).get_labels()\n",
    "\n",
    "house_train = house_features[:,:400]\n",
    "house_labels_train = house_labels[:400]\n",
    "\n",
    "house_test = house_features[:,400:]\n",
    "house_labels_test = house_labels[400:]\n",
    "\n",
    "shogun_house_train = RealFeatures(house_train)\n",
    "shogun_house_label_train = RegressionLabels(house_labels_train)\n",
    "\n",
    "shogun_house_test = RealFeatures(house_test)\n",
    "shogun_house_label_test = RegressionLabels(house_labels_test)"
   ]
  },
  {
   "cell_type": "code",
   "execution_count": 8,
   "metadata": {
    "collapsed": false
   },
   "outputs": [
    {
     "name": "stdout",
     "output_type": "stream",
     "text": [
      "Shogun Weights:\n",
      "[ -2.07803677e-01   4.54598411e-02   3.80540419e-02   1.73671197e+00\n",
      "  -2.48316331e+00   6.29751631e+00  -3.96993936e-03  -9.44676797e-01\n",
      "   3.76983123e-01  -1.26846090e-02  -4.50995418e-01   1.11214277e-02\n",
      "  -4.47627389e-01]\n",
      "Shogun Bias:\n",
      "0.0\n",
      "Shogun RSS: \n",
      "35.8142558323\n",
      "Shogun time:\n",
      "0.00084114074707\n",
      "*******\n",
      "Sklearn Weights\n",
      "[ -1.91246374e-01   4.42289967e-02   5.52207977e-02   1.71631351e+00\n",
      "  -1.49957220e+01   4.88773025e+00   2.60921031e-03  -1.29480799e+00\n",
      "   4.84787214e-01  -1.54006673e-02  -8.08795026e-01  -1.29230427e-03\n",
      "  -5.17953791e-01]\n",
      "Sklearn Bias\n",
      "28.6725995909\n",
      "SKlearn RSS: \n",
      "37.8937785996\n",
      "SKlearn time:\n",
      "0.004714012146\n"
     ]
    }
   ],
   "source": [
    "start = time.time()\n",
    "shogun_regression_2=LeastSquaresRegression(shogun_house_train, shogun_house_label_train)\n",
    "shogun_regression_2.train()\n",
    "end = time.time()\n",
    "\n",
    "house_out = shogun_regression_2.apply(shogun_house_test).get_labels()\n",
    "\n",
    "print 'Shogun Weights:'\n",
    "print shogun_regression_2.get_w()\n",
    "print 'Shogun Bias:'\n",
    "print shogun_regression_2.get_bias()\n",
    "print \"Shogun RSS: \"\n",
    "print np.mean((house_out - house_labels_test) ** 2)\n",
    "print \"Shogun time:\"\n",
    "print end-start\n",
    "print \"*******\"\n",
    "\n",
    "house_train_inverted = map(list, zip(*house_train))\n",
    "house_test_inverted = map(list, zip(*house_test))\n",
    "\n",
    "start = time.time()\n",
    "sklearn_regression_2 = linear_model.LinearRegression()\n",
    "sklearn_regression_2.fit(house_train_inverted, house_labels_train)\n",
    "end = time.time()\n",
    "\n",
    "house_out2 = sklearn_regression_2.predict(house_test_inverted)\n",
    "\n",
    "print 'Sklearn Weights'\n",
    "print sklearn_regression_2.coef_\n",
    "print 'Sklearn Bias'\n",
    "print sklearn_regression_2.intercept_\n",
    "print\"SKlearn RSS: \"\n",
    "print np.mean((house_out2 - house_labels_test) ** 2)\n",
    "print \"SKlearn time:\"\n",
    "print end-start"
   ]
  },
  {
   "cell_type": "markdown",
   "metadata": {},
   "source": [
    "## Third Dataset "
   ]
  },
  {
   "cell_type": "code",
   "execution_count": 4,
   "metadata": {
    "collapsed": false
   },
   "outputs": [
    {
     "data": {
      "text/plain": [
       "<matplotlib.collections.PathCollection at 0x7f3b728fd7d0>"
      ]
     },
     "execution_count": 4,
     "metadata": {},
     "output_type": "execute_result"
    },
    {
     "data": {
      "image/png": "[encoded data removed]",
      "text/plain": [
       "<matplotlib.figure.Figure at 0x7f3b73aea3d0>"
      ]
     },
     "metadata": {},
     "output_type": "display_data"
    }
   ],
   "source": [
    "from sklearn import datasets\n",
    "diabetes = datasets.load_diabetes()\n",
    "\n",
    "# Use only one feature\n",
    "diabetes_X = diabetes.data[:, np.newaxis, 2]\n",
    "\n",
    "# Split the data into training/testing sets\n",
    "diabetes_X_train = diabetes_X[:-20]\n",
    "diabetes_X_test = diabetes_X[-20:]\n",
    "\n",
    "# Split the targets into training/testing sets\n",
    "diabetes_y_train = diabetes.target[:-20]\n",
    "diabetes_y_test = diabetes.target[-20:]\n",
    "\n",
    "shogun_diab_x_train = RealFeatures(diabetes_X_train[:,0].reshape(1,len(diabetes_X_train[:,0])))\n",
    "shogun_diab_x_test = RealFeatures(diabetes_X_test[:,0].reshape(1,len(diabetes_X_test[:,0])))\n",
    "shogun_diab_labels_train = RegressionLabels(diabetes_y_train)\n",
    "shogun_diab_labels_test = RegressionLabels(diabetes_y_test)\n",
    "\n",
    "plt.scatter(diabetes_X_train, diabetes_y_train,  color='black')"
   ]
  },
  {
   "cell_type": "code",
   "execution_count": 5,
   "metadata": {
    "collapsed": false
   },
   "outputs": [
    {
     "name": "stdout",
     "output_type": "stream",
     "text": [
      "Shogun Weights:\n",
      "[ 970.16723129]\n",
      "Shogun Bias:\n",
      "153.362559242\n",
      "Shogun RSS: \n",
      "2529.89050159\n",
      "Shogun time:\n",
      "0.000325918197632\n",
      "*******\n",
      "Sklearn Weights\n",
      "[ 938.23786125]\n",
      "Sklearn Bias\n",
      "152.918861826\n",
      "SKlearn RSS: \n",
      "2548.07239873\n",
      "SKlearn time:\n",
      "0.000577926635742\n"
     ]
    }
   ],
   "source": [
    "start = time.time()\n",
    "shogun_regression_3=LeastSquaresRegression(shogun_diab_x_train, shogun_diab_labels_train)\n",
    "shogun_regression_3.train()\n",
    "end = time.time()\n",
    "\n",
    "diab_out = shogun_regression_3.apply(shogun_diab_x_test).get_labels()\n",
    "\n",
    "print 'Shogun Weights:'\n",
    "print shogun_regression_3.get_w()\n",
    "print 'Shogun Bias:'\n",
    "print shogun_regression_3.get_bias()\n",
    "print \"Shogun RSS: \"\n",
    "print np.mean((diab_out - diabetes_y_test) ** 2)\n",
    "print \"Shogun time:\"\n",
    "print end-start\n",
    "print \"*******\"\n",
    "\n",
    "start = time.time()\n",
    "sklearn_regression_3 = linear_model.LinearRegression()\n",
    "sklearn_regression_3.fit(diabetes_X_train, diabetes_y_train)\n",
    "end = time.time()\n",
    "\n",
    "diab_out3 = sklearn_regression_3.predict(diabetes_X_test)\n",
    "\n",
    "print 'Sklearn Weights'\n",
    "print sklearn_regression_3.coef_\n",
    "print 'Sklearn Bias'\n",
    "print sklearn_regression_3.intercept_\n",
    "print\"SKlearn RSS: \"\n",
    "print np.mean((diab_out3 - diabetes_y_test) ** 2)\n",
    "print \"SKlearn time:\"\n",
    "print end-start"
   ]
  },
  {
   "cell_type": "code",
   "execution_count": 6,
   "metadata": {
    "collapsed": false
   },
   "outputs": [
    {
     "data": {
      "image/png": "[encoded data removed]",
      "text/plain": [
       "<matplotlib.figure.Figure at 0x7f3ba8311090>"
      ]
     },
     "metadata": {},
     "output_type": "display_data"
    }
   ],
   "source": [
    "_=plt.plot(diabetes_X_train,diabetes_y_train, 'ro')\n",
    "_=plt.plot(diabetes_X_test,diab_out, color='blue')\n",
    "_=plt.plot(diabetes_X_test, diab_out3, color='green')"
   ]
  },
  {
   "cell_type": "code",
   "execution_count": 22,
   "metadata": {
    "collapsed": false
   },
   "outputs": [
    {
     "data": {
      "text/plain": [
       "array([ 151.,   75.,  141.,  206.,  135.,   97.,  138.,   63.,  110.,\n",
       "        310.,  101.,   69.,  179.,  185.,  118.,  171.,  166.,  144.,\n",
       "         97.,  168.,   68.,   49.,   68.,  245.,  184.,  202.,  137.,\n",
       "         85.,  131.,  283.,  129.,   59.,  341.,   87.,   65.,  102.,\n",
       "        265.,  276.,  252.,   90.,  100.,   55.,   61.,   92.,  259.,\n",
       "         53.,  190.,  142.,   75.,  142.,  155.,  225.,   59.,  104.,\n",
       "        182.,  128.,   52.,   37.,  170.,  170.,   61.,  144.,   52.,\n",
       "        128.,   71.,  163.,  150.,   97.,  160.,  178.,   48.,  270.,\n",
       "        202.,  111.,   85.,   42.,  170.,  200.,  252.,  113.,  143.,\n",
       "         51.,   52.,  210.,   65.,  141.,   55.,  134.,   42.,  111.,\n",
       "         98.,  164.,   48.,   96.,   90.,  162.,  150.,  279.,   92.,\n",
       "         83.,  128.,  102.,  302.,  198.,   95.,   53.,  134.,  144.,\n",
       "        232.,   81.,  104.,   59.,  246.,  297.,  258.,  229.,  275.,\n",
       "        281.,  179.,  200.,  200.,  173.,  180.,   84.,  121.,  161.,\n",
       "         99.,  109.,  115.,  268.,  274.,  158.,  107.,   83.,  103.,\n",
       "        272.,   85.,  280.,  336.,  281.,  118.,  317.,  235.,   60.,\n",
       "        174.,  259.,  178.,  128.,   96.,  126.,  288.,   88.,  292.,\n",
       "         71.,  197.,  186.,   25.,   84.,   96.,  195.,   53.,  217.,\n",
       "        172.,  131.,  214.,   59.,   70.,  220.,  268.,  152.,   47.,\n",
       "         74.,  295.,  101.,  151.,  127.,  237.,  225.,   81.,  151.,\n",
       "        107.,   64.,  138.,  185.,  265.,  101.,  137.,  143.,  141.,\n",
       "         79.,  292.,  178.,   91.,  116.,   86.,  122.,   72.,  129.,\n",
       "        142.,   90.,  158.,   39.,  196.,  222.,  277.,   99.,  196.,\n",
       "        202.,  155.,   77.,  191.,   70.,   73.,   49.,   65.,  263.,\n",
       "        248.,  296.,  214.,  185.,   78.,   93.,  252.,  150.,   77.,\n",
       "        208.,   77.,  108.,  160.,   53.,  220.,  154.,  259.,   90.,\n",
       "        246.,  124.,   67.,   72.,  257.,  262.,  275.,  177.,   71.,\n",
       "         47.,  187.,  125.,   78.,   51.,  258.,  215.,  303.,  243.,\n",
       "         91.,  150.,  310.,  153.,  346.,   63.,   89.,   50.,   39.,\n",
       "        103.,  308.,  116.,  145.,   74.,   45.,  115.,  264.,   87.,\n",
       "        202.,  127.,  182.,  241.,   66.,   94.,  283.,   64.,  102.,\n",
       "        200.,  265.,   94.,  230.,  181.,  156.,  233.,   60.,  219.,\n",
       "         80.,   68.,  332.,  248.,   84.,  200.,   55.,   85.,   89.,\n",
       "         31.,  129.,   83.,  275.,   65.,  198.,  236.,  253.,  124.,\n",
       "         44.,  172.,  114.,  142.,  109.,  180.,  144.,  163.,  147.,\n",
       "         97.,  220.,  190.,  109.,  191.,  122.,  230.,  242.,  248.,\n",
       "        249.,  192.,  131.,  237.,   78.,  135.,  244.,  199.,  270.,\n",
       "        164.,   72.,   96.,  306.,   91.,  214.,   95.,  216.,  263.,\n",
       "        178.,  113.,  200.,  139.,  139.,   88.,  148.,   88.,  243.,\n",
       "         71.,   77.,  109.,  272.,   60.,   54.,  221.,   90.,  311.,\n",
       "        281.,  182.,  321.,   58.,  262.,  206.,  233.,  242.,  123.,\n",
       "        167.,   63.,  197.,   71.,  168.,  140.,  217.,  121.,  235.,\n",
       "        245.,   40.,   52.,  104.,  132.,   88.,   69.,  219.,   72.,\n",
       "        201.,  110.,   51.,  277.,   63.,  118.,   69.,  273.,  258.,\n",
       "         43.,  198.,  242.,  232.,  175.,   93.,  168.,  275.,  293.,\n",
       "        281.,   72.,  140.,  189.,  181.,  209.,  136.,  261.,  113.,\n",
       "        131.,  174.,  257.,   55.,   84.,   42.,  146.,  212.])"
      ]
     },
     "execution_count": 22,
     "metadata": {},
     "output_type": "execute_result"
    }
   ],
   "source": [
    "shogun_diab_labels_train.get_labels()"
   ]
  },
  {
   "cell_type": "code",
   "execution_count": 21,
   "metadata": {
    "collapsed": false
   },
   "outputs": [
    {
     "data": {
      "text/plain": [
       "array([[ 0.07786339],\n",
       "       [-0.03961813],\n",
       "       [ 0.01103904],\n",
       "       [-0.04069594],\n",
       "       [-0.03422907],\n",
       "       [ 0.00564998],\n",
       "       [ 0.08864151],\n",
       "       [-0.03315126],\n",
       "       [-0.05686312],\n",
       "       [-0.03099563],\n",
       "       [ 0.05522933],\n",
       "       [-0.06009656],\n",
       "       [ 0.00133873],\n",
       "       [-0.02345095],\n",
       "       [-0.07410811],\n",
       "       [ 0.01966154],\n",
       "       [-0.01590626],\n",
       "       [-0.01590626],\n",
       "       [ 0.03906215],\n",
       "       [-0.0730303 ]])"
      ]
     },
     "execution_count": 21,
     "metadata": {},
     "output_type": "execute_result"
    }
   ],
   "source": [
    "diabetes_X_test"
   ]
  },
  {
   "cell_type": "code",
   "execution_count": 9,
   "metadata": {
    "collapsed": false
   },
   "outputs": [
    {
     "data": {
      "text/plain": [
       "27.469284431459766"
      ]
     },
     "execution_count": 9,
     "metadata": {},
     "output_type": "execute_result"
    }
   ],
   "source": [
    "np.mean(y_train)"
   ]
  },
  {
   "cell_type": "code",
   "execution_count": null,
   "metadata": {
    "collapsed": true
   },
   "outputs": [],
   "source": []
  }
 ],
 "metadata": {
  "kernelspec": {
   "display_name": "Python 2",
   "language": "python",
   "name": "python2"
  },
  "language_info": {
   "codemirror_mode": {
    "name": "ipython",
    "version": 2
   },
   "file_extension": ".py",
   "mimetype": "text/x-python",
   "name": "python",
   "nbconvert_exporter": "python",
   "pygments_lexer": "ipython2",
   "version": "2.7.6"
  }
 },
 "nbformat": 4,
 "nbformat_minor": 0
}
